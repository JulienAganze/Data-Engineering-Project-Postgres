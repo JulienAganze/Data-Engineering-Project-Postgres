{
 "cells": [
  {
   "cell_type": "markdown",
   "id": "43150170",
   "metadata": {},
   "source": [
    "# Creating a table with Postgresql"
   ]
  },
  {
   "cell_type": "code",
   "execution_count": 2,
   "id": "39a193d5",
   "metadata": {},
   "outputs": [
    {
     "name": "stdout",
     "output_type": "stream",
     "text": [
      "Collecting psycopg2\n",
      "  Downloading psycopg2-2.9.5.tar.gz (384 kB)\n",
      "\u001b[2K     \u001b[38;2;114;156;31m━━━━━━━━━━━━━━━━━━━━━━━━━━━━━━━━━━━━━━━\u001b[0m \u001b[32m384.3/384.3 kB\u001b[0m \u001b[31m3.1 MB/s\u001b[0m eta \u001b[36m0:00:00\u001b[0m[36m0:00:01\u001b[0mm eta \u001b[36m0:00:01\u001b[0m\n",
      "\u001b[?25h  Preparing metadata (setup.py) ... \u001b[?25ldone\n",
      "\u001b[?25hBuilding wheels for collected packages: psycopg2\n",
      "  Building wheel for psycopg2 (setup.py) ... \u001b[?25ldone\n",
      "\u001b[?25h  Created wheel for psycopg2: filename=psycopg2-2.9.5-cp39-cp39-linux_x86_64.whl size=166866 sha256=7a64a01b52752dd983fdbe6bc12537f699446f66a88b9b6c12a601a321124b0d\n",
      "  Stored in directory: /home/julian/.cache/pip/wheels/7e/ad/8b/26873413259428280c0894640ff3c475221f3b10282796e9d6\n",
      "Successfully built psycopg2\n",
      "Installing collected packages: psycopg2\n",
      "Successfully installed psycopg2-2.9.5\n",
      "Note: you may need to restart the kernel to use updated packages.\n"
     ]
    }
   ],
   "source": [
    "pip install psycopg2"
   ]
  },
  {
   "cell_type": "markdown",
   "id": "589c7ae1",
   "metadata": {},
   "source": [
    "# Import the library"
   ]
  },
  {
   "cell_type": "code",
   "execution_count": 3,
   "id": "d1f9ff72",
   "metadata": {},
   "outputs": [],
   "source": [
    "import psycopg2"
   ]
  },
  {
   "cell_type": "markdown",
   "id": "3c2ea48c",
   "metadata": {},
   "source": [
    "# Create a connection to the database"
   ]
  },
  {
   "cell_type": "code",
   "execution_count": 8,
   "id": "aaf62443",
   "metadata": {},
   "outputs": [],
   "source": [
    "try:\n",
    "    conn = psycopg2.connect(\"host=localhost dbname=postgres user=postgres password=text123\")\n",
    "except psycopg2.Error as a:\n",
    "    print(\"Error: Could not make connection to the Postgres database\")\n",
    "    print(a)"
   ]
  },
  {
   "cell_type": "markdown",
   "id": "6248224c",
   "metadata": {},
   "source": [
    "# Use the connection to get a cursor that can be used to execute queries"
   ]
  },
  {
   "cell_type": "code",
   "execution_count": 9,
   "id": "7094dc3f",
   "metadata": {},
   "outputs": [],
   "source": [
    "try:\n",
    "    cur = conn.cursor()\n",
    "except psycopg2.Error as e:\n",
    "    print(\"Error: Could not get cursor to the Database\")\n",
    "    print(e)"
   ]
  },
  {
   "cell_type": "markdown",
   "id": "5665c837",
   "metadata": {},
   "source": [
    "# Set automatic commit to be true so that each action is committed without having to call conn.commit() after each command"
   ]
  },
  {
   "cell_type": "code",
   "execution_count": 10,
   "id": "4c5759ac",
   "metadata": {},
   "outputs": [],
   "source": [
    "conn.set_session(autocommit=True)"
   ]
  },
  {
   "cell_type": "markdown",
   "id": "971e5ce9",
   "metadata": {},
   "source": [
    "# Create a database to do the work in"
   ]
  },
  {
   "cell_type": "code",
   "execution_count": 12,
   "id": "7e856621",
   "metadata": {},
   "outputs": [
    {
     "name": "stdout",
     "output_type": "stream",
     "text": [
      "database \"myfirstdb\" already exists\n",
      "\n"
     ]
    }
   ],
   "source": [
    "try:\n",
    "    cur.execute(\"create database myfirstdb\")\n",
    "except psycopg2.Error as e:\n",
    "    print(e)"
   ]
  },
  {
   "cell_type": "markdown",
   "id": "2bf25dc6",
   "metadata": {},
   "source": [
    "# Add the database name in the connect statement. Let's close our connection to the default database, reconnect to the 'myfirstdb', and get a new cursor"
   ]
  },
  {
   "cell_type": "code",
   "execution_count": 14,
   "id": "94653df1",
   "metadata": {},
   "outputs": [],
   "source": [
    "try:\n",
    "    conn.close()\n",
    "except psycopg2.Error as e:\n",
    "    print(e)\n",
    "    \n",
    "try:\n",
    "    conn = psycopg2.connect(\"host=localhost dbname=myfirstdb user=postgres password=text123\")\n",
    "except psycopg2.Error as e:\n",
    "    print(\"Error: Could not make connection to the myfirstdb database\")\n",
    "    print(e)\n",
    "    \n",
    "try:\n",
    "    cur = conn.cursor()\n",
    "except psycopg2.Error as e:\n",
    "    print(\"Error: Could not get cursor to the Database\")\n",
    "    print(e)\n",
    "    \n",
    "conn.set_session(autocommit=True)\n",
    "    "
   ]
  },
  {
   "cell_type": "markdown",
   "id": "9f8b3dc0",
   "metadata": {},
   "source": [
    "# Create Table for students having below columns\n",
    "student_id <br>\n",
    "name <br>\n",
    "age <br>\n",
    "gender <br>\n",
    "subject <br>\n",
    "mark"
   ]
  },
  {
   "cell_type": "code",
   "execution_count": 15,
   "id": "3612519e",
   "metadata": {},
   "outputs": [],
   "source": [
    "try:\n",
    "    cur.execute(\"CREATE TABLE IF NOT EXISTS students (student_id int, name varchar,\\\n",
    "    age int, gender varchar, subject varchar, marks int);\")\n",
    "except psycopg2.Error as e:\n",
    "    print(\"Error: Issue creating the table\")\n",
    "    print(e)"
   ]
  },
  {
   "cell_type": "markdown",
   "id": "a3208091",
   "metadata": {},
   "source": [
    "# Insert the following two rows in the table\n",
    "First row: 1, \"Julien\" ,24 , \"Male\" ,\"Python\" , 85 <br>\n",
    "Second row: 2, \"Ketsia\" ,20 , \"Female\" ,\"Java\" , 90 \n"
   ]
  },
  {
   "cell_type": "code",
   "execution_count": 18,
   "id": "0c4b7c68",
   "metadata": {},
   "outputs": [],
   "source": [
    "try:\n",
    "    cur.execute(\"INSERT INTO students (student_id, name ,age , gender, subject, marks) \\\n",
    "                VALUES (%s,%s,%s,%s,%s,%s)\",\\\n",
    "                (1,\"Julien\",24,\"Male\",\"Python\",75))\n",
    "except psycopg2.Error as e:\n",
    "    print(\"Error: Inserting rows\")\n",
    "    print(e)\n",
    "    \n",
    "try:\n",
    "    cur.execute(\"INSERT INTO students (student_id, name ,age , gender, subject, marks) \\\n",
    "                VALUES (%s,%s,%s,%s,%s,%s)\",\\\n",
    "                (2,\"Ketsia\",20,\"Female\",\"Java\",90))\n",
    "except psycopg2.Error as e:\n",
    "    print(\"Error: Inserting rows\")\n",
    "    print(e)"
   ]
  },
  {
   "cell_type": "markdown",
   "id": "51d59d82",
   "metadata": {},
   "source": [
    "# Validate data was inserted into the table"
   ]
  },
  {
   "cell_type": "code",
   "execution_count": 19,
   "id": "ed204b93",
   "metadata": {},
   "outputs": [
    {
     "name": "stdout",
     "output_type": "stream",
     "text": [
      "(1, 'Julien', 24, 'Male', 'Python', 75)\n",
      "(2, 'Ketsia', 20, 'Female', 'Java', 90)\n",
      "(1, 'Julien', 24, 'Male', 'Python', 75)\n",
      "(2, 'Ketsia', 20, 'Female', 'Java', 90)\n"
     ]
    }
   ],
   "source": [
    "try:\n",
    "    cur.execute(\"SELECT * FROM students;\")\n",
    "except psycopg2.Error as e:\n",
    "    print(\"Error: select *\")\n",
    "    print(e)\n",
    "    \n",
    "row = cur.fetchone()\n",
    "while row:\n",
    "    print(row)\n",
    "    row = cur.fetchone()"
   ]
  },
  {
   "cell_type": "markdown",
   "id": "03decefc",
   "metadata": {},
   "source": [
    "# And finally closing the cursor and connection"
   ]
  },
  {
   "cell_type": "code",
   "execution_count": null,
   "id": "536f65ed",
   "metadata": {},
   "outputs": [],
   "source": []
  }
 ],
 "metadata": {
  "kernelspec": {
   "display_name": "Python 3 (ipykernel)",
   "language": "python",
   "name": "python3"
  },
  "language_info": {
   "codemirror_mode": {
    "name": "ipython",
    "version": 3
   },
   "file_extension": ".py",
   "mimetype": "text/x-python",
   "name": "python",
   "nbconvert_exporter": "python",
   "pygments_lexer": "ipython3",
   "version": "3.9.7"
  }
 },
 "nbformat": 4,
 "nbformat_minor": 5
}
