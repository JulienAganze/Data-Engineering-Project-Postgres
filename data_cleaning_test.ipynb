{
 "cells": [
  {
   "cell_type": "code",
   "execution_count": 1,
   "id": "cab9092d",
   "metadata": {},
   "outputs": [],
   "source": [
    "import pandas as pd"
   ]
  },
  {
   "cell_type": "code",
   "execution_count": 54,
   "id": "28a37ee5",
   "metadata": {},
   "outputs": [],
   "source": [
    "CR7 = pd.read_csv('cr7.csv')\n",
    "messi = pd.read_csv('messi.csv')\n",
    "data = pd.read_csv('data.csv')"
   ]
  },
  {
   "cell_type": "markdown",
   "id": "7faebb13",
   "metadata": {},
   "source": [
    "# CR7 dataset"
   ]
  },
  {
   "cell_type": "code",
   "execution_count": 55,
   "id": "49da90ac",
   "metadata": {},
   "outputs": [
    {
     "data": {
      "text/html": [
       "<div>\n",
       "<style scoped>\n",
       "    .dataframe tbody tr th:only-of-type {\n",
       "        vertical-align: middle;\n",
       "    }\n",
       "\n",
       "    .dataframe tbody tr th {\n",
       "        vertical-align: top;\n",
       "    }\n",
       "\n",
       "    .dataframe thead th {\n",
       "        text-align: right;\n",
       "    }\n",
       "</style>\n",
       "<table border=\"1\" class=\"dataframe\">\n",
       "  <thead>\n",
       "    <tr style=\"text-align: right;\">\n",
       "      <th></th>\n",
       "      <th>Season</th>\n",
       "      <th>Competition</th>\n",
       "      <th>Matchday</th>\n",
       "      <th>Date</th>\n",
       "      <th>Venue</th>\n",
       "      <th>Club</th>\n",
       "      <th>Opponent</th>\n",
       "      <th>Result</th>\n",
       "      <th>Playing_Position</th>\n",
       "      <th>Minute</th>\n",
       "      <th>At_score</th>\n",
       "      <th>Type</th>\n",
       "      <th>Goal_assist</th>\n",
       "    </tr>\n",
       "  </thead>\n",
       "  <tbody>\n",
       "    <tr>\n",
       "      <th>0</th>\n",
       "      <td>02/03</td>\n",
       "      <td>Liga Portugal</td>\n",
       "      <td>6</td>\n",
       "      <td>10-07-02</td>\n",
       "      <td>H</td>\n",
       "      <td>Sporting CP</td>\n",
       "      <td>Moreirense FC</td>\n",
       "      <td>3:00</td>\n",
       "      <td>LW</td>\n",
       "      <td>34</td>\n",
       "      <td>2:00</td>\n",
       "      <td>Solo run</td>\n",
       "      <td>NaN</td>\n",
       "    </tr>\n",
       "    <tr>\n",
       "      <th>1</th>\n",
       "      <td>02/03</td>\n",
       "      <td>Liga Portugal</td>\n",
       "      <td>6</td>\n",
       "      <td>10-07-02</td>\n",
       "      <td>H</td>\n",
       "      <td>Sporting CP</td>\n",
       "      <td>Moreirense FC</td>\n",
       "      <td>3:00</td>\n",
       "      <td>LW</td>\n",
       "      <td>90+5</td>\n",
       "      <td>3:00</td>\n",
       "      <td>Header</td>\n",
       "      <td>Rui Jorge</td>\n",
       "    </tr>\n",
       "    <tr>\n",
       "      <th>2</th>\n",
       "      <td>02/03</td>\n",
       "      <td>Liga Portugal</td>\n",
       "      <td>8</td>\n",
       "      <td>10/26/02</td>\n",
       "      <td>A</td>\n",
       "      <td>Sporting CP</td>\n",
       "      <td>Boavista FC</td>\n",
       "      <td>1:02</td>\n",
       "      <td>NaN</td>\n",
       "      <td>88</td>\n",
       "      <td>1:02</td>\n",
       "      <td>Right-footed shot</td>\n",
       "      <td>Carlos Martins</td>\n",
       "    </tr>\n",
       "    <tr>\n",
       "      <th>3</th>\n",
       "      <td>02/03</td>\n",
       "      <td>Taca de Portugal Placard</td>\n",
       "      <td>Fourth Round</td>\n",
       "      <td>11/24/02</td>\n",
       "      <td>H</td>\n",
       "      <td>Sporting CP</td>\n",
       "      <td>CD Estarreja</td>\n",
       "      <td>4:01</td>\n",
       "      <td>NaN</td>\n",
       "      <td>67</td>\n",
       "      <td>3:00</td>\n",
       "      <td>Left-footed shot</td>\n",
       "      <td>Cesar Prates</td>\n",
       "    </tr>\n",
       "    <tr>\n",
       "      <th>4</th>\n",
       "      <td>02/03</td>\n",
       "      <td>Taca de Portugal Placard</td>\n",
       "      <td>Fifth Round</td>\n",
       "      <td>12/18/02</td>\n",
       "      <td>H</td>\n",
       "      <td>Sporting CP</td>\n",
       "      <td>FC Oliveira do Hospital</td>\n",
       "      <td>8:01</td>\n",
       "      <td>NaN</td>\n",
       "      <td>13</td>\n",
       "      <td>3:00</td>\n",
       "      <td>NaN</td>\n",
       "      <td>NaN</td>\n",
       "    </tr>\n",
       "  </tbody>\n",
       "</table>\n",
       "</div>"
      ],
      "text/plain": [
       "  Season               Competition      Matchday      Date Venue         Club  \\\n",
       "0  02/03             Liga Portugal             6  10-07-02     H  Sporting CP   \n",
       "1  02/03             Liga Portugal             6  10-07-02     H  Sporting CP   \n",
       "2  02/03             Liga Portugal             8  10/26/02     A  Sporting CP   \n",
       "3  02/03  Taca de Portugal Placard  Fourth Round  11/24/02     H  Sporting CP   \n",
       "4  02/03  Taca de Portugal Placard   Fifth Round  12/18/02     H  Sporting CP   \n",
       "\n",
       "                  Opponent Result Playing_Position Minute At_score  \\\n",
       "0            Moreirense FC   3:00               LW     34     2:00   \n",
       "1            Moreirense FC   3:00               LW   90+5     3:00   \n",
       "2              Boavista FC   1:02              NaN     88     1:02   \n",
       "3             CD Estarreja   4:01              NaN     67     3:00   \n",
       "4  FC Oliveira do Hospital   8:01              NaN     13     3:00   \n",
       "\n",
       "                Type     Goal_assist  \n",
       "0           Solo run             NaN  \n",
       "1             Header       Rui Jorge  \n",
       "2  Right-footed shot  Carlos Martins  \n",
       "3   Left-footed shot    Cesar Prates  \n",
       "4                NaN             NaN  "
      ]
     },
     "execution_count": 55,
     "metadata": {},
     "output_type": "execute_result"
    }
   ],
   "source": [
    "CR7.head()"
   ]
  },
  {
   "cell_type": "code",
   "execution_count": 56,
   "id": "f7e4492b",
   "metadata": {
    "scrolled": true
   },
   "outputs": [
    {
     "data": {
      "text/plain": [
       "Season                0\n",
       "Competition           0\n",
       "Matchday              0\n",
       "Date                  0\n",
       "Venue                 0\n",
       "Club                  0\n",
       "Opponent              0\n",
       "Result                0\n",
       "Playing_Position     58\n",
       "Minute                0\n",
       "At_score              0\n",
       "Type                 15\n",
       "Goal_assist         242\n",
       "dtype: int64"
      ]
     },
     "execution_count": 56,
     "metadata": {},
     "output_type": "execute_result"
    }
   ],
   "source": [
    "CR7.isnull().sum()"
   ]
  },
  {
   "cell_type": "markdown",
   "id": "40893fc3",
   "metadata": {},
   "source": [
    "##### Playing position column"
   ]
  },
  {
   "cell_type": "code",
   "execution_count": 57,
   "id": "230f5610",
   "metadata": {},
   "outputs": [
    {
     "data": {
      "text/plain": [
       "array(['LW', nan, 'RW', 'CF', 'LW ', 'CF '], dtype=object)"
      ]
     },
     "execution_count": 57,
     "metadata": {},
     "output_type": "execute_result"
    }
   ],
   "source": [
    "CR7['Playing_Position'].unique()"
   ]
  },
  {
   "cell_type": "markdown",
   "id": "3b89885e",
   "metadata": {},
   "source": [
    "we can see that CF and LW ar erepeated twice. So we need to take care of this and this is because there are some spacing and thhis is basically what is responsible for this"
   ]
  },
  {
   "cell_type": "code",
   "execution_count": 58,
   "id": "135d9f09",
   "metadata": {},
   "outputs": [],
   "source": [
    "CR7['Playing_Position'].replace(['LW ','CF '],['LW','CF'],inplace=True)"
   ]
  },
  {
   "cell_type": "code",
   "execution_count": 59,
   "id": "58deaddd",
   "metadata": {},
   "outputs": [
    {
     "data": {
      "text/plain": [
       "array(['LW', nan, 'RW', 'CF'], dtype=object)"
      ]
     },
     "execution_count": 59,
     "metadata": {},
     "output_type": "execute_result"
    }
   ],
   "source": [
    "CR7['Playing_Position'].unique()"
   ]
  },
  {
   "cell_type": "code",
   "execution_count": 60,
   "id": "a314592a",
   "metadata": {},
   "outputs": [
    {
     "data": {
      "text/plain": [
       "LW     361\n",
       "CF     203\n",
       "RW      79\n",
       "NaN     58\n",
       "Name: Playing_Position, dtype: int64"
      ]
     },
     "execution_count": 60,
     "metadata": {},
     "output_type": "execute_result"
    }
   ],
   "source": [
    "CR7['Playing_Position'].value_counts(dropna=False)"
   ]
  },
  {
   "cell_type": "markdown",
   "id": "4bc3a972",
   "metadata": {},
   "source": [
    "lets now fill the nan values by using backward filling"
   ]
  },
  {
   "cell_type": "code",
   "execution_count": 61,
   "id": "df127870",
   "metadata": {},
   "outputs": [],
   "source": [
    "CR7['Playing_Position'].fillna(method = 'ffill' ,inplace=True)"
   ]
  },
  {
   "cell_type": "code",
   "execution_count": 62,
   "id": "24562090",
   "metadata": {},
   "outputs": [
    {
     "data": {
      "text/plain": [
       "array(['LW', 'RW', 'CF'], dtype=object)"
      ]
     },
     "execution_count": 62,
     "metadata": {},
     "output_type": "execute_result"
    }
   ],
   "source": [
    "CR7['Playing_Position'].unique()"
   ]
  },
  {
   "cell_type": "code",
   "execution_count": 63,
   "id": "8c23ee7f",
   "metadata": {},
   "outputs": [
    {
     "data": {
      "text/plain": [
       "LW    367\n",
       "CF    215\n",
       "RW    119\n",
       "Name: Playing_Position, dtype: int64"
      ]
     },
     "execution_count": 63,
     "metadata": {},
     "output_type": "execute_result"
    }
   ],
   "source": [
    "CR7['Playing_Position'].value_counts(dropna=False)"
   ]
  },
  {
   "cell_type": "markdown",
   "id": "ba010665",
   "metadata": {},
   "source": [
    "###### 'Type' column"
   ]
  },
  {
   "cell_type": "code",
   "execution_count": 50,
   "id": "00dafaa9",
   "metadata": {},
   "outputs": [
    {
     "data": {
      "text/plain": [
       "array(['Solo run', 'Header', 'Right-footed shot', 'Left-footed shot', nan,\n",
       "       'Direct free kick', 'Tap-in', 'Penalty', 'Penalty rebound',\n",
       "       'Long distance kick', 'Counter attack goal',\n",
       "       'Deflected shot on goal'], dtype=object)"
      ]
     },
     "execution_count": 50,
     "metadata": {},
     "output_type": "execute_result"
    }
   ],
   "source": [
    "CR7['Type'].unique()"
   ]
  },
  {
   "cell_type": "code",
   "execution_count": 53,
   "id": "d05a70ea",
   "metadata": {
    "scrolled": true
   },
   "outputs": [
    {
     "data": {
      "text/plain": [
       "Right-footed shot         251\n",
       "Penalty                   129\n",
       "Header                    112\n",
       "Left-footed shot          111\n",
       "Direct free kick           48\n",
       "NaN                        15\n",
       "Tap-in                     14\n",
       "Long distance kick          9\n",
       "Counter attack goal         5\n",
       "Penalty rebound             3\n",
       "Solo run                    2\n",
       "Deflected shot on goal      2\n",
       "Name: Type, dtype: int64"
      ]
     },
     "execution_count": 53,
     "metadata": {},
     "output_type": "execute_result"
    }
   ],
   "source": [
    "CR7['Type'].value_counts(dropna=False)"
   ]
  },
  {
   "cell_type": "markdown",
   "id": "361249b2",
   "metadata": {},
   "source": [
    "Here we will use the backward filling method"
   ]
  },
  {
   "cell_type": "code",
   "execution_count": 64,
   "id": "a09f8c1e",
   "metadata": {},
   "outputs": [],
   "source": [
    "CR7['Type'].fillna(method = 'bfill', inplace=True)"
   ]
  },
  {
   "cell_type": "code",
   "execution_count": 65,
   "id": "8ffcf0c5",
   "metadata": {},
   "outputs": [
    {
     "data": {
      "text/plain": [
       "Right-footed shot         254\n",
       "Penalty                   129\n",
       "Header                    115\n",
       "Left-footed shot          111\n",
       "Direct free kick           52\n",
       "Tap-in                     14\n",
       "Long distance kick          9\n",
       "Penalty rebound             8\n",
       "Counter attack goal         5\n",
       "Solo run                    2\n",
       "Deflected shot on goal      2\n",
       "Name: Type, dtype: int64"
      ]
     },
     "execution_count": 65,
     "metadata": {},
     "output_type": "execute_result"
    }
   ],
   "source": [
    "CR7['Type'].value_counts(dropna=False)"
   ]
  },
  {
   "cell_type": "markdown",
   "id": "86db3cae",
   "metadata": {},
   "source": [
    "######  'oals assists'  Column"
   ]
  },
  {
   "cell_type": "code",
   "execution_count": 67,
   "id": "0301c9b3",
   "metadata": {
    "scrolled": true
   },
   "outputs": [
    {
     "data": {
      "text/plain": [
       "NaN                 242\n",
       "Karim Benzema        44\n",
       "Gareth Bale          29\n",
       "Mesut Ozil           26\n",
       "Marcelo              23\n",
       "                   ... \n",
       "Leonardo Bonucci      1\n",
       "Rui Jorge             1\n",
       "Emre Can              1\n",
       "Borja Mayoral         1\n",
       "Roy Keane             1\n",
       "Name: Goal_assist, Length: 87, dtype: int64"
      ]
     },
     "execution_count": 67,
     "metadata": {},
     "output_type": "execute_result"
    }
   ],
   "source": [
    "CR7['Goal_assist'].value_counts(dropna=False)"
   ]
  },
  {
   "cell_type": "markdown",
   "id": "88fdc72d",
   "metadata": {},
   "source": [
    "there are 248 hoals we no assist and in this case we will go with the assumption that these goals we scored by  Christiano Ronaldo himself and this really makes sens bcause these could really be penalties, or even free kicks"
   ]
  },
  {
   "cell_type": "code",
   "execution_count": 68,
   "id": "dd5b311f",
   "metadata": {},
   "outputs": [],
   "source": [
    "CR7['Goal_assist'].fillna('Cristiano Ronaldo', inplace=True)"
   ]
  },
  {
   "cell_type": "code",
   "execution_count": 69,
   "id": "9078ab1d",
   "metadata": {},
   "outputs": [
    {
     "data": {
      "text/plain": [
       "Cristiano Ronaldo    242\n",
       "Karim Benzema         44\n",
       "Gareth Bale           29\n",
       "Mesut Ozil            26\n",
       "Marcelo               23\n",
       "                    ... \n",
       "Leonardo Bonucci       1\n",
       "Rui Jorge              1\n",
       "Emre Can               1\n",
       "Borja Mayoral          1\n",
       "Roy Keane              1\n",
       "Name: Goal_assist, Length: 87, dtype: int64"
      ]
     },
     "execution_count": 69,
     "metadata": {},
     "output_type": "execute_result"
    }
   ],
   "source": [
    "CR7['Goal_assist'].value_counts(dropna=False)"
   ]
  },
  {
   "cell_type": "markdown",
   "id": "0d32188c",
   "metadata": {},
   "source": [
    "#### Changing the datatype of the date column from object to datetime "
   ]
  },
  {
   "cell_type": "code",
   "execution_count": 70,
   "id": "10dbac3a",
   "metadata": {},
   "outputs": [],
   "source": [
    "CR7['Date']= pd.to_datetime(CR7['Date'])"
   ]
  },
  {
   "cell_type": "code",
   "execution_count": 71,
   "id": "7abe06a5",
   "metadata": {},
   "outputs": [
    {
     "name": "stdout",
     "output_type": "stream",
     "text": [
      "<class 'pandas.core.frame.DataFrame'>\n",
      "RangeIndex: 701 entries, 0 to 700\n",
      "Data columns (total 13 columns):\n",
      " #   Column            Non-Null Count  Dtype         \n",
      "---  ------            --------------  -----         \n",
      " 0   Season            701 non-null    object        \n",
      " 1   Competition       701 non-null    object        \n",
      " 2   Matchday          701 non-null    object        \n",
      " 3   Date              701 non-null    datetime64[ns]\n",
      " 4   Venue             701 non-null    object        \n",
      " 5   Club              701 non-null    object        \n",
      " 6   Opponent          701 non-null    object        \n",
      " 7   Result            701 non-null    object        \n",
      " 8   Playing_Position  701 non-null    object        \n",
      " 9   Minute            701 non-null    object        \n",
      " 10  At_score          701 non-null    object        \n",
      " 11  Type              701 non-null    object        \n",
      " 12  Goal_assist       701 non-null    object        \n",
      "dtypes: datetime64[ns](1), object(12)\n",
      "memory usage: 71.3+ KB\n"
     ]
    }
   ],
   "source": [
    "CR7.info()"
   ]
  },
  {
   "cell_type": "markdown",
   "id": "7c3f5842",
   "metadata": {},
   "source": [
    "#### working on the minute column and replacing the additionall minutes to the correct format"
   ]
  },
  {
   "cell_type": "code",
   "execution_count": 72,
   "id": "a63e3cfe",
   "metadata": {},
   "outputs": [
    {
     "data": {
      "text/plain": [
       "array(['34', '90+5', '88', '67', '13', '80', '74', '89', '60', '4', '44',\n",
       "       '87', '9', '8', '54', '58', '45+1', '21', '76', '63', '90', '12',\n",
       "       '68', '14', '38', '45', '59', '23', '19', '73', '82', '10', '39',\n",
       "       '84', '85', '47', '50', '77', '49', '28', '5', '62', '51', '41',\n",
       "       '35', '90+3', '22', '81', '48', '70', '90+2', '69', '56', '79',\n",
       "       '16', '53', '3', '24', '32', '26', '25', '30', '43', '65', '11',\n",
       "       '6', '57', '61', '17', '27', '1', '75', '2', '64', '71', '18',\n",
       "       '78', '29', '36', '15', '55', '86', '90+1', '72', '20', '42',\n",
       "       '103', '46', '52', '90+4', '37', '66', '90+6', '31', '40', '120',\n",
       "       '83', '7', '33', '97', '104', '105', '109', '90+7', '45+7', '45+2'],\n",
       "      dtype=object)"
      ]
     },
     "execution_count": 72,
     "metadata": {},
     "output_type": "execute_result"
    }
   ],
   "source": [
    "CR7['Minute'].unique()"
   ]
  },
  {
   "cell_type": "code",
   "execution_count": 75,
   "id": "c8dd9344",
   "metadata": {},
   "outputs": [],
   "source": [
    "CR7['Minute'].replace(['90+5','45+1','90+3','90+2','90+1','90+4','90+6','90+7','45+7','45+2'],\n",
    "                      ['95','46','93','92','91','94','96','97','52','47'],inplace=True)"
   ]
  },
  {
   "cell_type": "code",
   "execution_count": 76,
   "id": "e5014be1",
   "metadata": {
    "scrolled": true
   },
   "outputs": [
    {
     "data": {
      "text/plain": [
       "array(['34', '95', '88', '67', '13', '80', '74', '89', '60', '4', '44',\n",
       "       '87', '9', '8', '54', '58', '46', '21', '76', '63', '90', '12',\n",
       "       '68', '14', '38', '45', '59', '23', '19', '73', '82', '10', '39',\n",
       "       '84', '85', '47', '50', '77', '49', '28', '5', '62', '51', '41',\n",
       "       '35', '93', '22', '81', '48', '70', '92', '69', '56', '79', '16',\n",
       "       '53', '3', '24', '32', '26', '25', '30', '43', '65', '11', '6',\n",
       "       '57', '61', '17', '27', '1', '75', '2', '64', '71', '18', '78',\n",
       "       '29', '36', '15', '55', '86', '91', '72', '20', '42', '103', '52',\n",
       "       '94', '37', '66', '96', '31', '40', '120', '83', '7', '33', '97',\n",
       "       '104', '105', '109'], dtype=object)"
      ]
     },
     "execution_count": 76,
     "metadata": {},
     "output_type": "execute_result"
    }
   ],
   "source": [
    "CR7['Minute'].unique()"
   ]
  },
  {
   "cell_type": "code",
   "execution_count": null,
   "id": "1de20b3d",
   "metadata": {},
   "outputs": [],
   "source": []
  },
  {
   "cell_type": "markdown",
   "id": "708a58e7",
   "metadata": {},
   "source": [
    "# Messi dataset"
   ]
  },
  {
   "cell_type": "code",
   "execution_count": 77,
   "id": "17a9de75",
   "metadata": {},
   "outputs": [
    {
     "data": {
      "text/plain": [
       "Season                0\n",
       "Competition           0\n",
       "Matchday              0\n",
       "Date                  0\n",
       "Venue                 0\n",
       "Club                  0\n",
       "Opponent              0\n",
       "Result                0\n",
       "Playing_Position      0\n",
       "Minute                0\n",
       "At_score              0\n",
       "Type                  1\n",
       "Goal_assist         213\n",
       "dtype: int64"
      ]
     },
     "execution_count": 77,
     "metadata": {},
     "output_type": "execute_result"
    }
   ],
   "source": [
    "messi.isnull().sum()"
   ]
  },
  {
   "cell_type": "code",
   "execution_count": 80,
   "id": "4c163421",
   "metadata": {
    "scrolled": false
   },
   "outputs": [
    {
     "data": {
      "text/plain": [
       "Left-footed shot          433\n",
       "Right-footed shot          84\n",
       "Penalty                    84\n",
       "Direct free kick           51\n",
       "Header                     24\n",
       "Tap-in                      9\n",
       "Solo run                    4\n",
       "Penalty rebound             3\n",
       "Deflected shot on goal      2\n",
       "NaN                         1\n",
       "Counter attack goal         1\n",
       "Chest                       1\n",
       "Long distance kick          1\n",
       "Name: Type, dtype: int64"
      ]
     },
     "execution_count": 80,
     "metadata": {},
     "output_type": "execute_result"
    }
   ],
   "source": [
    "messi['Type'].value_counts(dropna=False)"
   ]
  },
  {
   "cell_type": "markdown",
   "id": "9f770248",
   "metadata": {},
   "source": [
    "we are also going to use the back fill method here to fill null values on the Type column"
   ]
  },
  {
   "cell_type": "code",
   "execution_count": 83,
   "id": "34ead981",
   "metadata": {},
   "outputs": [],
   "source": [
    "messi['Type'].fillna(method = 'bfill', inplace=True)"
   ]
  },
  {
   "cell_type": "code",
   "execution_count": 84,
   "id": "92395a81",
   "metadata": {},
   "outputs": [
    {
     "data": {
      "text/plain": [
       "Left-footed shot          433\n",
       "Right-footed shot          85\n",
       "Penalty                    84\n",
       "Direct free kick           51\n",
       "Header                     24\n",
       "Tap-in                      9\n",
       "Solo run                    4\n",
       "Penalty rebound             3\n",
       "Deflected shot on goal      2\n",
       "Counter attack goal         1\n",
       "Chest                       1\n",
       "Long distance kick          1\n",
       "Name: Type, dtype: int64"
      ]
     },
     "execution_count": 84,
     "metadata": {},
     "output_type": "execute_result"
    }
   ],
   "source": [
    "messi['Type'].value_counts(dropna=False)"
   ]
  },
  {
   "cell_type": "markdown",
   "id": "6e4baac9",
   "metadata": {},
   "source": [
    "For the null values present in the Goals assist we will just replace them with messi"
   ]
  },
  {
   "cell_type": "code",
   "execution_count": 85,
   "id": "86c73044",
   "metadata": {},
   "outputs": [],
   "source": [
    "messi['Goal_assist'].fillna('Lionel Messi', inplace=True)"
   ]
  },
  {
   "cell_type": "code",
   "execution_count": 86,
   "id": "29a4b2ce",
   "metadata": {},
   "outputs": [
    {
     "data": {
      "text/plain": [
       "Season              0\n",
       "Competition         0\n",
       "Matchday            0\n",
       "Date                0\n",
       "Venue               0\n",
       "Club                0\n",
       "Opponent            0\n",
       "Result              0\n",
       "Playing_Position    0\n",
       "Minute              0\n",
       "At_score            0\n",
       "Type                0\n",
       "Goal_assist         0\n",
       "dtype: int64"
      ]
     },
     "execution_count": 86,
     "metadata": {},
     "output_type": "execute_result"
    }
   ],
   "source": [
    "messi.isnull().sum()"
   ]
  },
  {
   "cell_type": "markdown",
   "id": "8f200906",
   "metadata": {},
   "source": [
    "Let us change the datatype of the date column too"
   ]
  },
  {
   "cell_type": "code",
   "execution_count": 87,
   "id": "07108180",
   "metadata": {},
   "outputs": [],
   "source": [
    "messi['Date'] = pd.to_datetime(messi['Date'])"
   ]
  },
  {
   "cell_type": "code",
   "execution_count": 88,
   "id": "fa98d3c9",
   "metadata": {},
   "outputs": [
    {
     "name": "stdout",
     "output_type": "stream",
     "text": [
      "<class 'pandas.core.frame.DataFrame'>\n",
      "RangeIndex: 698 entries, 0 to 697\n",
      "Data columns (total 13 columns):\n",
      " #   Column            Non-Null Count  Dtype         \n",
      "---  ------            --------------  -----         \n",
      " 0   Season            698 non-null    object        \n",
      " 1   Competition       698 non-null    object        \n",
      " 2   Matchday          698 non-null    object        \n",
      " 3   Date              698 non-null    datetime64[ns]\n",
      " 4   Venue             698 non-null    object        \n",
      " 5   Club              698 non-null    object        \n",
      " 6   Opponent          698 non-null    object        \n",
      " 7   Result            698 non-null    object        \n",
      " 8   Playing_Position  698 non-null    object        \n",
      " 9   Minute            698 non-null    object        \n",
      " 10  At_score          698 non-null    object        \n",
      " 11  Type              698 non-null    object        \n",
      " 12  Goal_assist       698 non-null    object        \n",
      "dtypes: datetime64[ns](1), object(12)\n",
      "memory usage: 71.0+ KB\n"
     ]
    }
   ],
   "source": [
    "messi.info()"
   ]
  },
  {
   "cell_type": "markdown",
   "id": "da649801",
   "metadata": {},
   "source": [
    "Let us now change some parametes in the minute columns"
   ]
  },
  {
   "cell_type": "code",
   "execution_count": 90,
   "id": "579890d2",
   "metadata": {},
   "outputs": [
    {
     "data": {
      "text/plain": [
       "array(['90+1', '34', '51', '50', '82', '75', '83', '42', '84', '59', '36',\n",
       "       '89', '80', '11', '28', '86', '45', '29', '39', '43', '57', '72',\n",
       "       '79', '5', '10', '66', '19', '41', '81', '58', '18', '44', '70',\n",
       "       '85', '90', '87', '90+2', '8', '4', '61', '49', '78', '21', '76',\n",
       "       '65', '30', '31', '40', '26', '9', '38', '23', '35', '55', '68',\n",
       "       '15', '90+3', '63', '25', '64', '110', '54', '7', '56', '13', '67',\n",
       "       '37', '88', '32', '16', '74', '3', '22', '12', '20', '46', '73',\n",
       "       '33', '77', '52', '53', '69', '24', '45+2', '17', '71', '27', '60',\n",
       "       '48', '6', '62', '45+1', '90+4', '47', '14', '45+4'], dtype=object)"
      ]
     },
     "execution_count": 90,
     "metadata": {},
     "output_type": "execute_result"
    }
   ],
   "source": [
    "messi['Minute'].unique()"
   ]
  },
  {
   "cell_type": "code",
   "execution_count": 92,
   "id": "bfe822bf",
   "metadata": {},
   "outputs": [],
   "source": [
    "messi['Minute'].replace(['90+1','90+2','90+3','45+2','45+1','90+4','45+4'],['91','92','93','47','46','94','49'], \n",
    "                        inplace=True)"
   ]
  },
  {
   "cell_type": "code",
   "execution_count": 93,
   "id": "f18d17e9",
   "metadata": {
    "scrolled": true
   },
   "outputs": [
    {
     "data": {
      "text/plain": [
       "array(['91', '34', '51', '50', '82', '75', '83', '42', '84', '59', '36',\n",
       "       '89', '80', '11', '28', '86', '45', '29', '39', '43', '57', '72',\n",
       "       '79', '5', '10', '66', '19', '41', '81', '58', '18', '44', '70',\n",
       "       '85', '90', '87', '92', '8', '4', '61', '49', '78', '21', '76',\n",
       "       '65', '30', '31', '40', '26', '9', '38', '23', '35', '55', '68',\n",
       "       '15', '93', '63', '25', '64', '110', '54', '7', '56', '13', '67',\n",
       "       '37', '88', '32', '16', '74', '3', '22', '12', '20', '46', '73',\n",
       "       '33', '77', '52', '53', '69', '24', '47', '17', '71', '27', '60',\n",
       "       '48', '6', '62', '94', '14'], dtype=object)"
      ]
     },
     "execution_count": 93,
     "metadata": {},
     "output_type": "execute_result"
    }
   ],
   "source": [
    "messi['Minute'].unique()"
   ]
  },
  {
   "cell_type": "code",
   "execution_count": null,
   "id": "f98f2e4f",
   "metadata": {},
   "outputs": [],
   "source": []
  },
  {
   "cell_type": "code",
   "execution_count": null,
   "id": "05e963fb",
   "metadata": {},
   "outputs": [],
   "source": []
  },
  {
   "cell_type": "code",
   "execution_count": 114,
   "id": "7ced5d8f",
   "metadata": {},
   "outputs": [],
   "source": [
    "file1 = 'cr7.csv'\n",
    "file2 = 'messi.csv'"
   ]
  },
  {
   "cell_type": "code",
   "execution_count": 115,
   "id": "ca6916c4",
   "metadata": {},
   "outputs": [],
   "source": [
    "output_path = '/home/julian/DATA_ENGINEERING/Data_Models/cleaned_data/'"
   ]
  },
  {
   "cell_type": "code",
   "execution_count": 116,
   "id": "203563b3",
   "metadata": {},
   "outputs": [],
   "source": [
    "clean_cr7 = pd.read_csv(output_path+file1)\n",
    "clean_messi = pd.read_csv(output_path+file2)"
   ]
  },
  {
   "cell_type": "code",
   "execution_count": 117,
   "id": "fcac1167",
   "metadata": {},
   "outputs": [
    {
     "data": {
      "text/html": [
       "<div>\n",
       "<style scoped>\n",
       "    .dataframe tbody tr th:only-of-type {\n",
       "        vertical-align: middle;\n",
       "    }\n",
       "\n",
       "    .dataframe tbody tr th {\n",
       "        vertical-align: top;\n",
       "    }\n",
       "\n",
       "    .dataframe thead th {\n",
       "        text-align: right;\n",
       "    }\n",
       "</style>\n",
       "<table border=\"1\" class=\"dataframe\">\n",
       "  <thead>\n",
       "    <tr style=\"text-align: right;\">\n",
       "      <th></th>\n",
       "      <th>Season</th>\n",
       "      <th>Competition</th>\n",
       "      <th>Matchday</th>\n",
       "      <th>Date</th>\n",
       "      <th>Venue</th>\n",
       "      <th>Club</th>\n",
       "      <th>Opponent</th>\n",
       "      <th>Result</th>\n",
       "      <th>Playing_Position</th>\n",
       "      <th>Minute</th>\n",
       "      <th>At_score</th>\n",
       "      <th>Type</th>\n",
       "      <th>Goal_assist</th>\n",
       "    </tr>\n",
       "  </thead>\n",
       "  <tbody>\n",
       "    <tr>\n",
       "      <th>0</th>\n",
       "      <td>02/03</td>\n",
       "      <td>Liga Portugal</td>\n",
       "      <td>6</td>\n",
       "      <td>2002-10-07</td>\n",
       "      <td>H</td>\n",
       "      <td>Sporting CP</td>\n",
       "      <td>Moreirense FC</td>\n",
       "      <td>3:00</td>\n",
       "      <td>LW</td>\n",
       "      <td>34</td>\n",
       "      <td>2:00</td>\n",
       "      <td>Solo run</td>\n",
       "      <td>Cristiano Ronaldo</td>\n",
       "    </tr>\n",
       "    <tr>\n",
       "      <th>1</th>\n",
       "      <td>02/03</td>\n",
       "      <td>Liga Portugal</td>\n",
       "      <td>6</td>\n",
       "      <td>2002-10-07</td>\n",
       "      <td>H</td>\n",
       "      <td>Sporting CP</td>\n",
       "      <td>Moreirense FC</td>\n",
       "      <td>3:00</td>\n",
       "      <td>LW</td>\n",
       "      <td>95</td>\n",
       "      <td>3:00</td>\n",
       "      <td>Header</td>\n",
       "      <td>Rui Jorge</td>\n",
       "    </tr>\n",
       "    <tr>\n",
       "      <th>2</th>\n",
       "      <td>02/03</td>\n",
       "      <td>Liga Portugal</td>\n",
       "      <td>8</td>\n",
       "      <td>2002-10-26</td>\n",
       "      <td>A</td>\n",
       "      <td>Sporting CP</td>\n",
       "      <td>Boavista FC</td>\n",
       "      <td>1:02</td>\n",
       "      <td>LW</td>\n",
       "      <td>88</td>\n",
       "      <td>1:02</td>\n",
       "      <td>Right-footed shot</td>\n",
       "      <td>Carlos Martins</td>\n",
       "    </tr>\n",
       "    <tr>\n",
       "      <th>3</th>\n",
       "      <td>02/03</td>\n",
       "      <td>Taca de Portugal Placard</td>\n",
       "      <td>Fourth Round</td>\n",
       "      <td>2002-11-24</td>\n",
       "      <td>H</td>\n",
       "      <td>Sporting CP</td>\n",
       "      <td>CD Estarreja</td>\n",
       "      <td>4:01</td>\n",
       "      <td>LW</td>\n",
       "      <td>67</td>\n",
       "      <td>3:00</td>\n",
       "      <td>Left-footed shot</td>\n",
       "      <td>Cesar Prates</td>\n",
       "    </tr>\n",
       "    <tr>\n",
       "      <th>4</th>\n",
       "      <td>02/03</td>\n",
       "      <td>Taca de Portugal Placard</td>\n",
       "      <td>Fifth Round</td>\n",
       "      <td>2002-12-18</td>\n",
       "      <td>H</td>\n",
       "      <td>Sporting CP</td>\n",
       "      <td>FC Oliveira do Hospital</td>\n",
       "      <td>8:01</td>\n",
       "      <td>LW</td>\n",
       "      <td>13</td>\n",
       "      <td>3:00</td>\n",
       "      <td>Direct free kick</td>\n",
       "      <td>Cristiano Ronaldo</td>\n",
       "    </tr>\n",
       "    <tr>\n",
       "      <th>...</th>\n",
       "      <td>...</td>\n",
       "      <td>...</td>\n",
       "      <td>...</td>\n",
       "      <td>...</td>\n",
       "      <td>...</td>\n",
       "      <td>...</td>\n",
       "      <td>...</td>\n",
       "      <td>...</td>\n",
       "      <td>...</td>\n",
       "      <td>...</td>\n",
       "      <td>...</td>\n",
       "      <td>...</td>\n",
       "      <td>...</td>\n",
       "    </tr>\n",
       "    <tr>\n",
       "      <th>696</th>\n",
       "      <td>21/22</td>\n",
       "      <td>Premier League</td>\n",
       "      <td>37</td>\n",
       "      <td>2022-04-28</td>\n",
       "      <td>H</td>\n",
       "      <td>Manchester United</td>\n",
       "      <td>Chelsea FC</td>\n",
       "      <td>1:01</td>\n",
       "      <td>CF</td>\n",
       "      <td>62</td>\n",
       "      <td>1:01</td>\n",
       "      <td>Right-footed shot</td>\n",
       "      <td>Nemanja MatiÄ‡</td>\n",
       "    </tr>\n",
       "    <tr>\n",
       "      <th>697</th>\n",
       "      <td>21/22</td>\n",
       "      <td>Premier League</td>\n",
       "      <td>35</td>\n",
       "      <td>2022-05-02</td>\n",
       "      <td>H</td>\n",
       "      <td>Manchester United</td>\n",
       "      <td>Brentford FC</td>\n",
       "      <td>3:00</td>\n",
       "      <td>CF</td>\n",
       "      <td>61</td>\n",
       "      <td>2:00</td>\n",
       "      <td>Penalty</td>\n",
       "      <td>Cristiano Ronaldo</td>\n",
       "    </tr>\n",
       "    <tr>\n",
       "      <th>698</th>\n",
       "      <td>22/23</td>\n",
       "      <td>Europa League</td>\n",
       "      <td>Group Stage</td>\n",
       "      <td>2022-09-15</td>\n",
       "      <td>A</td>\n",
       "      <td>Manchester United</td>\n",
       "      <td>FC Sheriff</td>\n",
       "      <td>0:02</td>\n",
       "      <td>CF</td>\n",
       "      <td>39</td>\n",
       "      <td>0:02</td>\n",
       "      <td>Penalty</td>\n",
       "      <td>Cristiano Ronaldo</td>\n",
       "    </tr>\n",
       "    <tr>\n",
       "      <th>699</th>\n",
       "      <td>22/23</td>\n",
       "      <td>Premier League</td>\n",
       "      <td>10</td>\n",
       "      <td>2022-10-09</td>\n",
       "      <td>A</td>\n",
       "      <td>Manchester United</td>\n",
       "      <td>Everton FC</td>\n",
       "      <td>1:2</td>\n",
       "      <td>CF</td>\n",
       "      <td>44</td>\n",
       "      <td>1:2</td>\n",
       "      <td>Counter attack goal</td>\n",
       "      <td>Casemiro</td>\n",
       "    </tr>\n",
       "    <tr>\n",
       "      <th>700</th>\n",
       "      <td>22/23</td>\n",
       "      <td>Europa League</td>\n",
       "      <td>Group Stage</td>\n",
       "      <td>2022-10-27</td>\n",
       "      <td>H</td>\n",
       "      <td>Manchester United</td>\n",
       "      <td>FC Sheriff</td>\n",
       "      <td>3:0</td>\n",
       "      <td>CF</td>\n",
       "      <td>81</td>\n",
       "      <td>3:0</td>\n",
       "      <td>Left-footed shot</td>\n",
       "      <td>Cristiano Ronaldo</td>\n",
       "    </tr>\n",
       "  </tbody>\n",
       "</table>\n",
       "<p>701 rows × 13 columns</p>\n",
       "</div>"
      ],
      "text/plain": [
       "    Season               Competition      Matchday        Date Venue  \\\n",
       "0    02/03             Liga Portugal             6  2002-10-07     H   \n",
       "1    02/03             Liga Portugal             6  2002-10-07     H   \n",
       "2    02/03             Liga Portugal             8  2002-10-26     A   \n",
       "3    02/03  Taca de Portugal Placard  Fourth Round  2002-11-24     H   \n",
       "4    02/03  Taca de Portugal Placard   Fifth Round  2002-12-18     H   \n",
       "..     ...                       ...           ...         ...   ...   \n",
       "696  21/22            Premier League            37  2022-04-28     H   \n",
       "697  21/22            Premier League            35  2022-05-02     H   \n",
       "698  22/23             Europa League   Group Stage  2022-09-15     A   \n",
       "699  22/23            Premier League            10  2022-10-09     A   \n",
       "700  22/23             Europa League   Group Stage  2022-10-27     H   \n",
       "\n",
       "                  Club                 Opponent Result Playing_Position  \\\n",
       "0          Sporting CP            Moreirense FC   3:00               LW   \n",
       "1          Sporting CP            Moreirense FC   3:00               LW   \n",
       "2          Sporting CP              Boavista FC   1:02               LW   \n",
       "3          Sporting CP             CD Estarreja   4:01               LW   \n",
       "4          Sporting CP  FC Oliveira do Hospital   8:01               LW   \n",
       "..                 ...                      ...    ...              ...   \n",
       "696  Manchester United               Chelsea FC   1:01               CF   \n",
       "697  Manchester United             Brentford FC   3:00               CF   \n",
       "698  Manchester United               FC Sheriff   0:02               CF   \n",
       "699  Manchester United               Everton FC    1:2               CF   \n",
       "700  Manchester United               FC Sheriff    3:0               CF   \n",
       "\n",
       "     Minute At_score                 Type        Goal_assist  \n",
       "0        34     2:00             Solo run  Cristiano Ronaldo  \n",
       "1        95     3:00               Header          Rui Jorge  \n",
       "2        88     1:02    Right-footed shot     Carlos Martins  \n",
       "3        67     3:00     Left-footed shot       Cesar Prates  \n",
       "4        13     3:00     Direct free kick  Cristiano Ronaldo  \n",
       "..      ...      ...                  ...                ...  \n",
       "696      62     1:01    Right-footed shot     Nemanja MatiÄ‡  \n",
       "697      61     2:00              Penalty  Cristiano Ronaldo  \n",
       "698      39     0:02              Penalty  Cristiano Ronaldo  \n",
       "699      44      1:2  Counter attack goal           Casemiro  \n",
       "700      81      3:0     Left-footed shot  Cristiano Ronaldo  \n",
       "\n",
       "[701 rows x 13 columns]"
      ]
     },
     "execution_count": 117,
     "metadata": {},
     "output_type": "execute_result"
    }
   ],
   "source": [
    "clean_cr7"
   ]
  },
  {
   "cell_type": "code",
   "execution_count": null,
   "id": "46e3324d",
   "metadata": {},
   "outputs": [],
   "source": []
  },
  {
   "cell_type": "code",
   "execution_count": 98,
   "id": "04755938",
   "metadata": {},
   "outputs": [
    {
     "data": {
      "text/plain": [
       "Index(['Unnamed: 0', 'Season', 'Competition', 'Matchday', 'Date', 'Venue',\n",
       "       'Club', 'Opponent', 'Result', 'Playing_Position', 'Minute', 'At_score',\n",
       "       'Type', 'Goal_assist'],\n",
       "      dtype='object')"
      ]
     },
     "execution_count": 98,
     "metadata": {},
     "output_type": "execute_result"
    }
   ],
   "source": [
    "clean_cr7.columns"
   ]
  },
  {
   "cell_type": "code",
   "execution_count": 109,
   "id": "73b080eb",
   "metadata": {},
   "outputs": [
    {
     "data": {
      "text/plain": [
       "Index(['Season', 'Competition', 'Matchday', 'Date', 'Venue', 'Club',\n",
       "       'Opponent', 'Result', 'Playing_Position', 'Minute', 'At_score', 'Type',\n",
       "       'Goal_assist'],\n",
       "      dtype='object')"
      ]
     },
     "execution_count": 109,
     "metadata": {},
     "output_type": "execute_result"
    }
   ],
   "source": [
    "CR7.columns"
   ]
  },
  {
   "cell_type": "code",
   "execution_count": 118,
   "id": "d3ab52c8",
   "metadata": {},
   "outputs": [
    {
     "data": {
      "text/html": [
       "<div>\n",
       "<style scoped>\n",
       "    .dataframe tbody tr th:only-of-type {\n",
       "        vertical-align: middle;\n",
       "    }\n",
       "\n",
       "    .dataframe tbody tr th {\n",
       "        vertical-align: top;\n",
       "    }\n",
       "\n",
       "    .dataframe thead th {\n",
       "        text-align: right;\n",
       "    }\n",
       "</style>\n",
       "<table border=\"1\" class=\"dataframe\">\n",
       "  <thead>\n",
       "    <tr style=\"text-align: right;\">\n",
       "      <th></th>\n",
       "      <th>Season</th>\n",
       "      <th>Competition</th>\n",
       "      <th>Matchday</th>\n",
       "      <th>Date</th>\n",
       "      <th>Venue</th>\n",
       "      <th>Club</th>\n",
       "      <th>Opponent</th>\n",
       "      <th>Result</th>\n",
       "      <th>Playing_Position</th>\n",
       "      <th>Minute</th>\n",
       "      <th>At_score</th>\n",
       "      <th>Type</th>\n",
       "      <th>Goal_assist</th>\n",
       "    </tr>\n",
       "  </thead>\n",
       "  <tbody>\n",
       "    <tr>\n",
       "      <th>0</th>\n",
       "      <td>04/05</td>\n",
       "      <td>LaLiga</td>\n",
       "      <td>34</td>\n",
       "      <td>2005-05-01</td>\n",
       "      <td>H</td>\n",
       "      <td>FC Barcelona</td>\n",
       "      <td>Albacete Balompie</td>\n",
       "      <td>2:00</td>\n",
       "      <td>CF</td>\n",
       "      <td>91</td>\n",
       "      <td>2:00</td>\n",
       "      <td>Left-footed shot</td>\n",
       "      <td>Ronaldinho Gaacho</td>\n",
       "    </tr>\n",
       "    <tr>\n",
       "      <th>1</th>\n",
       "      <td>05/06</td>\n",
       "      <td>UEFA Champions League</td>\n",
       "      <td>Group Stage</td>\n",
       "      <td>2005-11-02</td>\n",
       "      <td>H</td>\n",
       "      <td>FC Barcelona</td>\n",
       "      <td>Panathinaikos Athens</td>\n",
       "      <td>5:00</td>\n",
       "      <td>RW</td>\n",
       "      <td>34</td>\n",
       "      <td>3:00</td>\n",
       "      <td>Left-footed shot</td>\n",
       "      <td>Lionel Messi</td>\n",
       "    </tr>\n",
       "    <tr>\n",
       "      <th>2</th>\n",
       "      <td>05/06</td>\n",
       "      <td>LaLiga</td>\n",
       "      <td>13</td>\n",
       "      <td>2005-11-27</td>\n",
       "      <td>H</td>\n",
       "      <td>FC Barcelona</td>\n",
       "      <td>Racing Santander</td>\n",
       "      <td>4:01</td>\n",
       "      <td>RW</td>\n",
       "      <td>51</td>\n",
       "      <td>2:00</td>\n",
       "      <td>Left-footed shot</td>\n",
       "      <td>Samuel Etoo</td>\n",
       "    </tr>\n",
       "    <tr>\n",
       "      <th>3</th>\n",
       "      <td>05/06</td>\n",
       "      <td>LaLiga</td>\n",
       "      <td>19</td>\n",
       "      <td>2006-01-15</td>\n",
       "      <td>H</td>\n",
       "      <td>FC Barcelona</td>\n",
       "      <td>Athletic Bilbao</td>\n",
       "      <td>2:01</td>\n",
       "      <td>RW</td>\n",
       "      <td>50</td>\n",
       "      <td>2:01</td>\n",
       "      <td>Left-footed shot</td>\n",
       "      <td>Mark van Bommel</td>\n",
       "    </tr>\n",
       "    <tr>\n",
       "      <th>4</th>\n",
       "      <td>05/06</td>\n",
       "      <td>LaLiga</td>\n",
       "      <td>20</td>\n",
       "      <td>2006-01-22</td>\n",
       "      <td>H</td>\n",
       "      <td>FC Barcelona</td>\n",
       "      <td>Deportivo Alaves</td>\n",
       "      <td>2:00</td>\n",
       "      <td>CF</td>\n",
       "      <td>82</td>\n",
       "      <td>2:00</td>\n",
       "      <td>Left-footed shot</td>\n",
       "      <td>Ronaldinho Gaacho</td>\n",
       "    </tr>\n",
       "    <tr>\n",
       "      <th>...</th>\n",
       "      <td>...</td>\n",
       "      <td>...</td>\n",
       "      <td>...</td>\n",
       "      <td>...</td>\n",
       "      <td>...</td>\n",
       "      <td>...</td>\n",
       "      <td>...</td>\n",
       "      <td>...</td>\n",
       "      <td>...</td>\n",
       "      <td>...</td>\n",
       "      <td>...</td>\n",
       "      <td>...</td>\n",
       "      <td>...</td>\n",
       "    </tr>\n",
       "    <tr>\n",
       "      <th>693</th>\n",
       "      <td>22/23</td>\n",
       "      <td>UEFA Champions League</td>\n",
       "      <td>Group Stage</td>\n",
       "      <td>2022-10-05</td>\n",
       "      <td>A</td>\n",
       "      <td>Paris Saint-Germain</td>\n",
       "      <td>SL Benfica</td>\n",
       "      <td>1:1</td>\n",
       "      <td>AM</td>\n",
       "      <td>22</td>\n",
       "      <td>0:1</td>\n",
       "      <td>Left-footed shot</td>\n",
       "      <td>Neymar</td>\n",
       "    </tr>\n",
       "    <tr>\n",
       "      <th>694</th>\n",
       "      <td>22/23</td>\n",
       "      <td>Ligue 1</td>\n",
       "      <td>12</td>\n",
       "      <td>2022-10-21</td>\n",
       "      <td>A</td>\n",
       "      <td>Paris Saint-Germain</td>\n",
       "      <td>AC Ajaccio</td>\n",
       "      <td>0:3</td>\n",
       "      <td>CF</td>\n",
       "      <td>78</td>\n",
       "      <td>0:2</td>\n",
       "      <td>Left-footed shot</td>\n",
       "      <td>Kylian Mbappe</td>\n",
       "    </tr>\n",
       "    <tr>\n",
       "      <th>695</th>\n",
       "      <td>22/23</td>\n",
       "      <td>UEFA Champions League</td>\n",
       "      <td>Group Stage</td>\n",
       "      <td>2022-10-25</td>\n",
       "      <td>H</td>\n",
       "      <td>Paris Saint-Germain</td>\n",
       "      <td>Maccabi Haifa</td>\n",
       "      <td>7:2</td>\n",
       "      <td>SS</td>\n",
       "      <td>19</td>\n",
       "      <td>1:0</td>\n",
       "      <td>Left-footed shot</td>\n",
       "      <td>Kylian Mbappe</td>\n",
       "    </tr>\n",
       "    <tr>\n",
       "      <th>696</th>\n",
       "      <td>22/23</td>\n",
       "      <td>UEFA Champions League</td>\n",
       "      <td>Group Stage</td>\n",
       "      <td>2022-10-25</td>\n",
       "      <td>H</td>\n",
       "      <td>Paris Saint-Germain</td>\n",
       "      <td>Maccabi Haifa</td>\n",
       "      <td>7:2</td>\n",
       "      <td>SS</td>\n",
       "      <td>44</td>\n",
       "      <td>4:1</td>\n",
       "      <td>Left-footed shot</td>\n",
       "      <td>Kylian Mbappe</td>\n",
       "    </tr>\n",
       "    <tr>\n",
       "      <th>697</th>\n",
       "      <td>22/23</td>\n",
       "      <td>Ligue 1</td>\n",
       "      <td>13</td>\n",
       "      <td>2022-10-29</td>\n",
       "      <td>H</td>\n",
       "      <td>Paris Saint-Germain</td>\n",
       "      <td>ESTAC Troyes</td>\n",
       "      <td>4:3</td>\n",
       "      <td>RW</td>\n",
       "      <td>55</td>\n",
       "      <td>2:2</td>\n",
       "      <td>Left-footed shot</td>\n",
       "      <td>Sergio Ramos</td>\n",
       "    </tr>\n",
       "  </tbody>\n",
       "</table>\n",
       "<p>698 rows × 13 columns</p>\n",
       "</div>"
      ],
      "text/plain": [
       "    Season            Competition     Matchday        Date Venue  \\\n",
       "0    04/05                 LaLiga           34  2005-05-01     H   \n",
       "1    05/06  UEFA Champions League  Group Stage  2005-11-02     H   \n",
       "2    05/06                 LaLiga           13  2005-11-27     H   \n",
       "3    05/06                 LaLiga           19  2006-01-15     H   \n",
       "4    05/06                 LaLiga           20  2006-01-22     H   \n",
       "..     ...                    ...          ...         ...   ...   \n",
       "693  22/23  UEFA Champions League  Group Stage  2022-10-05     A   \n",
       "694  22/23                Ligue 1           12  2022-10-21     A   \n",
       "695  22/23  UEFA Champions League  Group Stage  2022-10-25     H   \n",
       "696  22/23  UEFA Champions League  Group Stage  2022-10-25     H   \n",
       "697  22/23                Ligue 1           13  2022-10-29     H   \n",
       "\n",
       "                    Club              Opponent Result Playing_Position  \\\n",
       "0           FC Barcelona     Albacete Balompie   2:00               CF   \n",
       "1           FC Barcelona  Panathinaikos Athens   5:00               RW   \n",
       "2           FC Barcelona      Racing Santander   4:01               RW   \n",
       "3           FC Barcelona       Athletic Bilbao   2:01               RW   \n",
       "4           FC Barcelona      Deportivo Alaves   2:00               CF   \n",
       "..                   ...                   ...    ...              ...   \n",
       "693  Paris Saint-Germain            SL Benfica    1:1               AM   \n",
       "694  Paris Saint-Germain            AC Ajaccio    0:3               CF   \n",
       "695  Paris Saint-Germain         Maccabi Haifa    7:2               SS   \n",
       "696  Paris Saint-Germain         Maccabi Haifa    7:2               SS   \n",
       "697  Paris Saint-Germain          ESTAC Troyes    4:3               RW   \n",
       "\n",
       "     Minute At_score              Type        Goal_assist  \n",
       "0        91     2:00  Left-footed shot  Ronaldinho Gaacho  \n",
       "1        34     3:00  Left-footed shot       Lionel Messi  \n",
       "2        51     2:00  Left-footed shot        Samuel Etoo  \n",
       "3        50     2:01  Left-footed shot    Mark van Bommel  \n",
       "4        82     2:00  Left-footed shot  Ronaldinho Gaacho  \n",
       "..      ...      ...               ...                ...  \n",
       "693      22      0:1  Left-footed shot             Neymar  \n",
       "694      78      0:2  Left-footed shot      Kylian Mbappe  \n",
       "695      19      1:0  Left-footed shot      Kylian Mbappe  \n",
       "696      44      4:1  Left-footed shot      Kylian Mbappe  \n",
       "697      55      2:2  Left-footed shot       Sergio Ramos  \n",
       "\n",
       "[698 rows x 13 columns]"
      ]
     },
     "execution_count": 118,
     "metadata": {},
     "output_type": "execute_result"
    }
   ],
   "source": [
    "clean_messi"
   ]
  },
  {
   "cell_type": "code",
   "execution_count": 113,
   "id": "265d2e09",
   "metadata": {
    "scrolled": true
   },
   "outputs": [
    {
     "name": "stdout",
     "output_type": "stream",
     "text": [
      "<class 'pandas.core.frame.DataFrame'>\n",
      "RangeIndex: 701 entries, 0 to 700\n",
      "Data columns (total 14 columns):\n",
      " #   Column            Non-Null Count  Dtype \n",
      "---  ------            --------------  ----- \n",
      " 0   Unnamed: 0        701 non-null    int64 \n",
      " 1   Season            701 non-null    object\n",
      " 2   Competition       701 non-null    object\n",
      " 3   Matchday          701 non-null    object\n",
      " 4   Date              701 non-null    object\n",
      " 5   Venue             701 non-null    object\n",
      " 6   Club              701 non-null    object\n",
      " 7   Opponent          701 non-null    object\n",
      " 8   Result            701 non-null    object\n",
      " 9   Playing_Position  701 non-null    object\n",
      " 10  Minute            701 non-null    int64 \n",
      " 11  At_score          701 non-null    object\n",
      " 12  Type              701 non-null    object\n",
      " 13  Goal_assist       701 non-null    object\n",
      "dtypes: int64(2), object(12)\n",
      "memory usage: 76.8+ KB\n"
     ]
    }
   ],
   "source": [
    "clean_cr7.info()"
   ]
  },
  {
   "cell_type": "code",
   "execution_count": null,
   "id": "06e066a7",
   "metadata": {},
   "outputs": [],
   "source": []
  },
  {
   "cell_type": "code",
   "execution_count": null,
   "id": "587f5a5d",
   "metadata": {},
   "outputs": [],
   "source": []
  },
  {
   "cell_type": "code",
   "execution_count": 120,
   "id": "6c8726fc",
   "metadata": {},
   "outputs": [],
   "source": [
    "from urllib.request import urlopen"
   ]
  },
  {
   "cell_type": "code",
   "execution_count": null,
   "id": "7efeb5a5",
   "metadata": {},
   "outputs": [],
   "source": []
  },
  {
   "cell_type": "code",
   "execution_count": 126,
   "id": "b5851e42",
   "metadata": {},
   "outputs": [
    {
     "data": {
      "text/plain": [
       "19610"
      ]
     },
     "execution_count": 126,
     "metadata": {},
     "output_type": "execute_result"
    }
   ],
   "source": [
    "import requests\n",
    "\n",
    "URL = \"https://www.kaggle.com/datasets/azminetoushikwasi/lionel-messi-vs-cristiano-ronaldo-club-goals?select=data.csv\"\n",
    "response = requests.get(URL)\n",
    "open(\"inst.csv\", \"wb\").write(response.content)"
   ]
  },
  {
   "cell_type": "code",
   "execution_count": null,
   "id": "9304eca5",
   "metadata": {},
   "outputs": [],
   "source": [
    "import requests\n",
    "\n",
    "# The link should be of the file directly\n",
    "url = '<your url here>'\n",
    "file_extension = '.<file extension>'   # Example .wav\n",
    "r = requests.get(url)\n",
    "\n",
    "# If extension does not exist in end of url, append it\n",
    "if file_extension not in url.split(\"/\")[-1]:\n",
    "        filename = f'{last_url_path}{file_extension}'\n",
    "# Else take the last part of the url as filename\n",
    "else:\n",
    "        filename = url.split(\"/\")[-1]\n",
    "\n",
    "with open(filename, 'wb') as f:\n",
    "        # You will get the file in base64 as content\n",
    "        f.write(r.content)"
   ]
  },
  {
   "cell_type": "code",
   "execution_count": null,
   "id": "1f1935e4",
   "metadata": {},
   "outputs": [],
   "source": []
  },
  {
   "cell_type": "code",
   "execution_count": null,
   "id": "e906e596",
   "metadata": {},
   "outputs": [],
   "source": []
  },
  {
   "cell_type": "code",
   "execution_count": null,
   "id": "dac0fe19",
   "metadata": {},
   "outputs": [],
   "source": []
  },
  {
   "cell_type": "code",
   "execution_count": null,
   "id": "7810402e",
   "metadata": {},
   "outputs": [],
   "source": []
  },
  {
   "cell_type": "code",
   "execution_count": null,
   "id": "f87f0566",
   "metadata": {},
   "outputs": [],
   "source": []
  },
  {
   "cell_type": "code",
   "execution_count": null,
   "id": "da589ede",
   "metadata": {},
   "outputs": [],
   "source": []
  },
  {
   "cell_type": "code",
   "execution_count": null,
   "id": "9c63f5f1",
   "metadata": {},
   "outputs": [],
   "source": []
  },
  {
   "cell_type": "code",
   "execution_count": null,
   "id": "fe91d322",
   "metadata": {},
   "outputs": [],
   "source": []
  },
  {
   "cell_type": "code",
   "execution_count": null,
   "id": "36d4ec77",
   "metadata": {},
   "outputs": [],
   "source": []
  },
  {
   "cell_type": "code",
   "execution_count": null,
   "id": "d9b7319b",
   "metadata": {},
   "outputs": [],
   "source": []
  },
  {
   "cell_type": "code",
   "execution_count": null,
   "id": "65c74e5a",
   "metadata": {},
   "outputs": [],
   "source": []
  },
  {
   "cell_type": "code",
   "execution_count": null,
   "id": "7e28857c",
   "metadata": {},
   "outputs": [],
   "source": []
  },
  {
   "cell_type": "code",
   "execution_count": null,
   "id": "9ff00923",
   "metadata": {},
   "outputs": [],
   "source": []
  }
 ],
 "metadata": {
  "kernelspec": {
   "display_name": "Python 3 (ipykernel)",
   "language": "python",
   "name": "python3"
  },
  "language_info": {
   "codemirror_mode": {
    "name": "ipython",
    "version": 3
   },
   "file_extension": ".py",
   "mimetype": "text/x-python",
   "name": "python",
   "nbconvert_exporter": "python",
   "pygments_lexer": "ipython3",
   "version": "3.9.7"
  }
 },
 "nbformat": 4,
 "nbformat_minor": 5
}
